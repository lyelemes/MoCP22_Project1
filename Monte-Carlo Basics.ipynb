{
 "cells": [
  {
   "cell_type": "code",
   "execution_count": 1,
   "metadata": {},
   "outputs": [],
   "source": [
    "import numpy as np\n",
    "import matplotlib.pyplot as plt"
   ]
  },
  {
   "cell_type": "code",
   "execution_count": 2,
   "metadata": {},
   "outputs": [],
   "source": [
    "def MC_I(a, b, N, M, f): # Monte-Carlo Intergration\n",
    "    \n",
    "    V = b - a # integration volume\n",
    "    x = np.zeros((M, N)) \n",
    "    \n",
    "    for i in range(M):\n",
    "        x[i] = np.random.uniform(a, b, N)\n",
    "        #creating M sets with N randomly generated points\n",
    "    \n",
    "    I_N = V/N * f(x).sum(axis = 1) # MC integral result\n",
    "    \n",
    "    deltaN = V * np.std(f(x), axis = 1) /np.sqrt(N-1) # the error of I_N\n",
    "    \n",
    "    return I_N, deltaN"
   ]
  },
  {
   "cell_type": "code",
   "execution_count": 3,
   "metadata": {},
   "outputs": [],
   "source": [
    "lower = 0 # lower integration limit\n",
    "upper = 1 # upper integration limit\n",
    "N = 1000 # number of randomly generated points on the interval [a, b)"
   ]
  },
  {
   "cell_type": "code",
   "execution_count": 173,
   "metadata": {},
   "outputs": [
    {
     "name": "stdout",
     "output_type": "stream",
     "text": [
      "The estimation is [0.20171948]  with the standard error of [0.00859192]\n",
      "|True value - Estimation|/standard error = [0.20012707]\n"
     ]
    }
   ],
   "source": [
    "# (a) M = 1\n",
    "M = 1 #number of sets\n",
    "\n",
    "def x4(x): # function to be integrated over [a, b) \n",
    "    return x**4\n",
    "\n",
    "I_a, sigma_a = MC_I(lower, upper, N, M, x4)\n",
    "\n",
    "I_true_a = (upper)**5/5 - (lower)**5/5 \n",
    "\n",
    "print(f'The estimation is {I_a}  with the standard error of {sigma_a}')\n",
    "print(f'|True value - Estimation|/standard error = {(abs(I_true_a-I_a))/sigma_a}')"
   ]
  },
  {
   "cell_type": "code",
   "execution_count": 200,
   "metadata": {},
   "outputs": [],
   "source": [
    "# (b) M = 1000\n",
    "M = 1000\n",
    "\n",
    "I_b, sigma_b = MC_I(lower, upper, N, M, x4)\n"
   ]
  },
  {
   "cell_type": "code",
   "execution_count": 201,
   "metadata": {},
   "outputs": [],
   "source": [
    "from matplotlib import colors\n",
    "from matplotlib.ticker import PercentFormatter \n",
    "\n",
    "import scipy.stats \n"
   ]
  },
  {
   "cell_type": "code",
   "execution_count": 215,
   "metadata": {},
   "outputs": [
    {
     "data": {
      "image/png": "[encoded data removed]",
      "text/plain": [
       "<Figure size 432x288 with 1 Axes>"
      ]
     },
     "metadata": {
      "needs_background": "light"
     },
     "output_type": "display_data"
    }
   ],
   "source": [
    "_, bins, _ = plt.hist(I_b, 20, density=1, alpha=0.5)\n",
    "\n",
    "mu, sigma = scipy.stats.norm.fit(I_b)\n",
    "\n",
    "best_fit_line = scipy.stats.norm.pdf(bins, mu, sigma)\n",
    "plt.plot(bins, best_fit_line, label = '$\\mathcal{N}$'f'({mu:.4},{sigma**2:.4})')\n",
    "\n",
    "plt.title('Histogram of results of 1000 MC simulations with Gaussian fit')\n",
    "plt.xlabel('$I_N$')\n",
    "plt.ylabel('Frequency')\n",
    "plt.grid()\n",
    "plt.legend()\n",
    "plt.savefig('MC basics 1.png')\n",
    "plt.show()"
   ]
  },
  {
   "cell_type": "code",
   "execution_count": 210,
   "metadata": {},
   "outputs": [
    {
     "data": {
      "text/plain": [
       "0.008431123192271205"
      ]
     },
     "execution_count": 210,
     "metadata": {},
     "output_type": "execute_result"
    }
   ],
   "source": [
    "sigma"
   ]
  },
  {
   "cell_type": "code",
   "execution_count": 14,
   "metadata": {},
   "outputs": [],
   "source": [
    "# (c) \n",
    "g1 = lambda x: 2*x\n",
    "g2 = lambda x: 3*x**2\n",
    "g3 = lambda x: 4*x**3\n",
    "g4 = lambda x: 5*x**4"
   ]
  },
  {
   "cell_type": "code",
   "execution_count": 15,
   "metadata": {},
   "outputs": [],
   "source": [
    "def weights(g, x, N):\n",
    "    sum = 0\n",
    "    weight = np.zeros(N)\n",
    "    for i in range(N):\n",
    "        weight[i] = g(x[i])\n",
    "        sum = sum + weight[i]\n",
    "    \n",
    "    weight = weight/sum\n",
    "    return weight"
   ]
  },
  {
   "cell_type": "code",
   "execution_count": 52,
   "metadata": {},
   "outputs": [],
   "source": [
    "def Importance_MC(f, g, x, N):     # x is a sample of N points randomly sampled according to g(x)\n",
    "    sigma_N = []                           # storing errors for each sample size from 1 to N=1000\n",
    "    f_sum = 0\n",
    "    f_squared_sum = 0\n",
    "    \n",
    "    b, a = 1, 0\n",
    "\n",
    "    for i in range(N):\n",
    "        f_sum = f_sum + f(x[i])/g(x[i])\n",
    "        f_ave_squared = np.power(f_sum/(i+1),2)\n",
    "        f_squared_sum = f_squared_sum + np.power(f(x[i])/g(x[i]), 2)\n",
    "        f_squared_ave = f_squared_sum/(i+1) \n",
    "\n",
    "    if i==0:\n",
    "        sigma_N.append((b-a)*np.sqrt(f_squared_ave - f_ave_squared))        #error when N = 1\n",
    "    if i!=0:\n",
    "        sigma_N.append((b-a)*np.sqrt((f_squared_ave - f_ave_squared)/i))    #error for N>1\n",
    "\n",
    "    result = (b-a)*f_sum/N\n",
    "    return sigma_N, result"
   ]
  },
  {
   "cell_type": "code",
   "execution_count": 25,
   "metadata": {},
   "outputs": [],
   "source": [
    "N = 1000\n",
    "\n",
    "domain = np.linspace(0, 1, N, endpoint=False) "
   ]
  },
  {
   "cell_type": "code",
   "execution_count": 32,
   "metadata": {},
   "outputs": [],
   "source": [
    "w1 = weights(g1, domain, N) \n",
    "sample1 = np.random.choice(domain, N, p = w1)\n",
    "\n",
    "w2 = weights(g2, domain, N)\n",
    "sample2 = np.random.choice(domain, N, p = w2)\n",
    "\n",
    "w3 = weights(g3, domain, N)\n",
    "sample3 = np.random.choice(domain, N, p = w3)\n",
    "\n",
    "w4 = weights(g4, domain, N)\n",
    "sample4 = np.random.choice(domain, N, p = w4)"
   ]
  },
  {
   "cell_type": "code",
   "execution_count": 53,
   "metadata": {},
   "outputs": [],
   "source": [
    "sigmaN1, res1 = Importance_MC(x4, g1, sample1, N)\n",
    "sigmaN2, res2 = Importance_MC(x4, g2, sample2, N)\n",
    "sigmaN3, res3 = Importance_MC(x4, g3, sample3, N)\n",
    "sigmaN4, res4 = Importance_MC(x4, g4, sample4, N)"
   ]
  },
  {
   "cell_type": "code",
   "execution_count": 229,
   "metadata": {},
   "outputs": [
    {
     "data": {
      "text/plain": [
       "[0.004853210511564838]"
      ]
     },
     "execution_count": 229,
     "metadata": {},
     "output_type": "execute_result"
    }
   ],
   "source": [
    "sigmaN1"
   ]
  },
  {
   "cell_type": "code",
   "execution_count": 230,
   "metadata": {},
   "outputs": [
    {
     "name": "stdout",
     "output_type": "stream",
     "text": [
      "N = 1000\n",
      "sigma = 0.004853, I_N = 0.2118\n",
      "sigma = 0.002802, I_N = 0.197\n",
      "sigma = 0.001292, I_N = 0.2012\n",
      "sigma = 6.771e-10, I_N = 0.2\n"
     ]
    }
   ],
   "source": [
    "print(f'N = {N}')\n",
    "print(f'sigma = {sigmaN1[0]:.4}, I_N = {res1:.4}')\n",
    "print(f'sigma = {sigmaN2[0]:.4}, I_N = {res2:.4}')\n",
    "print(f'sigma = {sigmaN3[0]:.4}, I_N = {res3:.4}')\n",
    "print(f'sigma = {sigmaN4[0]:.4}, I_N = {res4:.4}')"
   ]
  },
  {
   "cell_type": "code",
   "execution_count": 77,
   "metadata": {},
   "outputs": [
    {
     "name": "stderr",
     "output_type": "stream",
     "text": [
      "C:\\Users\\HP\\Anaconda3\\lib\\site-packages\\ipykernel_launcher.py:17: RuntimeWarning: invalid value encountered in sqrt\n"
     ]
    }
   ],
   "source": [
    "sigmaN1_list = []\n",
    "sigmaN2_list = []\n",
    "sigmaN3_list = []\n",
    "sigmaN4_list = []\n",
    "\n",
    "for i in range(1, N+1):\n",
    "    sigmaN1_list.append(Importance_MC(x4, g1, sample1, i)[0])\n",
    "    sigmaN2_list.append(Importance_MC(x4, g2, sample2, i)[0])\n",
    "    sigmaN3_list.append(Importance_MC(x4, g3, sample3, i)[0])\n",
    "    sigmaN4_list.append(Importance_MC(x4, g4, sample4, i)[0])\n"
   ]
  },
  {
   "cell_type": "code",
   "execution_count": 217,
   "metadata": {},
   "outputs": [
    {
     "data": {
      "image/png": "[encoded data removed]",
      "text/plain": [
       "<Figure size 432x288 with 1 Axes>"
      ]
     },
     "metadata": {
      "needs_background": "light"
     },
     "output_type": "display_data"
    }
   ],
   "source": [
    "plt.loglog(np.arange(1, N+1),sigmaN1_list,'r.', label = '$g(x)=2x$')\n",
    "plt.loglog(np.arange(1, N+1),sigmaN2_list, '.', label = '$g(x)=3x^2$')\n",
    "plt.loglog(np.arange(1, N+1),sigmaN3_list,'g.', label = '$g(x)=4x^3$')\n",
    "plt.loglog(np.arange(1, N+1),sigmaN4_list,'b.', label = '$g(x)=5x^4$')\n",
    "plt.xlabel('log(N)')\n",
    "plt.ylabel('log($\\sigma_N$)')\n",
    "plt.title('log($\\sigma_N$) vs. log($N$)')\n",
    "\n",
    "plt.legend(loc = 'center left', shadow = True)\n",
    "\n",
    "plt.savefig('MC basics 2.png')\n",
    "plt.show()"
   ]
  }
 ],
 "metadata": {
  "kernelspec": {
   "display_name": "Python 3",
   "language": "python",
   "name": "python3"
  },
  "language_info": {
   "codemirror_mode": {
    "name": "ipython",
    "version": 3
   },
   "file_extension": ".py",
   "mimetype": "text/x-python",
   "name": "python",
   "nbconvert_exporter": "python",
   "pygments_lexer": "ipython3",
   "version": "3.7.4"
  }
 },
 "nbformat": 4,
 "nbformat_minor": 2
}
